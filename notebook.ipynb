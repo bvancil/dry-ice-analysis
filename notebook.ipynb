{
 "cells": [
  {
   "cell_type": "markdown",
   "metadata": {},
   "source": [
    "# Comparision of dry ice to mechanical refrigeration"
   ]
  },
  {
   "cell_type": "markdown",
   "metadata": {},
   "source": [
    "## Units"
   ]
  },
  {
   "cell_type": "code",
   "execution_count": 12,
   "metadata": {},
   "outputs": [],
   "source": [
    "from astropy import units\n",
    "dimensionless = units.dimensionless_unscaled\n",
    "# mass\n",
    "g = units.gram\n",
    "kg = units.kg\n",
    "ton = units.tonne\n",
    "# temperature\n",
    "degF = units.imperial.Fahrenheit\n",
    "K = units.Kelvin\n",
    "# energy\n",
    "J = units.joule\n",
    "kJ = units.kJ\n",
    "kWh = (units.kilowatt * units.hour).to(J) * J"
   ]
  },
  {
   "cell_type": "markdown",
   "metadata": {},
   "source": [
    "## Constants"
   ]
  },
  {
   "cell_type": "markdown",
   "metadata": {},
   "source": [
    "Dry ice has an enthalpy of sublimation of{cite}`DryIce2021`:"
   ]
  },
  {
   "cell_type": "code",
   "execution_count": 13,
   "metadata": {},
   "outputs": [
    {
     "name": "stdout",
     "output_type": "stream",
     "text": [
      "1.7513134851138355e-06 kg / J\n"
     ]
    }
   ],
   "source": [
    "enthalpy_sublimation = 571 * kJ / kg\n",
    "dry_ice_co2_equivalent_efficiency = (1 / enthalpy_sublimation).to(kg / J)\n",
    "print(dry_ice_co2_equivalent_efficiency)"
   ]
  },
  {
   "cell_type": "markdown",
   "metadata": {},
   "source": [
    "The maximum Carnot coefficient of performance for refrigerators is{cite}`HeatPumpRefrigeration2021`\n",
    "\n",
    "$$\\text{COP}_\\text{R,Carnot} = \\frac{1}{\\frac{T_H}{T_L} - 1}.$$\n"
   ]
  },
  {
   "cell_type": "code",
   "execution_count": 14,
   "metadata": {},
   "outputs": [
    {
     "name": "stdout",
     "output_type": "stream",
     "text": [
      "1.1200792523065222\n",
      "8.327833333333343\n"
     ]
    }
   ],
   "source": [
    "temperature_environment = (100 * degF).to(K, equivalencies=units.temperature())\n",
    "temperature_cooled = (40 * degF).to(K, equivalencies=units.temperature())\n",
    "print(temperature_environment / temperature_cooled)\n",
    "cop_max_refrigerator = 1 / (temperature_environment / temperature_cooled - 1)\n",
    "print(cop_max_refrigerator)"
   ]
  },
  {
   "cell_type": "markdown",
   "metadata": {},
   "source": [
    "A more realistic value is{cite}`CoefficientPerformance2021`:"
   ]
  },
  {
   "cell_type": "code",
   "execution_count": 15,
   "metadata": {},
   "outputs": [],
   "source": [
    "cop_refrigerator = 4.5"
   ]
  },
  {
   "cell_type": "markdown",
   "metadata": {},
   "source": [
    "In 2019, the United States of America emitted CO₂ during electricity generation at the rate{cite}`FrequentlyAskedQuestions`:"
   ]
  },
  {
   "cell_type": "code",
   "execution_count": 16,
   "metadata": {},
   "outputs": [
    {
     "name": "stdout",
     "output_type": "stream",
     "text": [
      "1.156846919558784e-07 kg / J\n"
     ]
    }
   ],
   "source": [
    "electricity_co2_equivalent_efficiency = ((1.72e9 * ton) / (4.13e12 * kWh)).to(kg / J)\n",
    "print(electricity_co2_equivalent_efficiency)"
   ]
  },
  {
   "cell_type": "code",
   "execution_count": 17,
   "metadata": {},
   "outputs": [
    {
     "name": "stdout",
     "output_type": "stream",
     "text": [
      "5.205811138014528e-07 kg / J\n"
     ]
    }
   ],
   "source": [
    "refrigeration_co2_equivalent_efficiency = cop_refrigerator * electricity_co2_equivalent_efficiency\n",
    "print(refrigeration_co2_equivalent_efficiency)"
   ]
  },
  {
   "cell_type": "markdown",
   "metadata": {},
   "source": [
    "## Comparison"
   ]
  },
  {
   "cell_type": "code",
   "execution_count": 18,
   "metadata": {},
   "outputs": [
    {
     "name": "stdout",
     "output_type": "stream",
     "text": [
      "3.364151020241926\n"
     ]
    },
    {
     "data": {
      "text/plain": [
       "336.4"
      ]
     },
     "metadata": {
      "scrapbook": {
       "mime_prefix": "",
       "name": "dry_ice_percent_worse"
      }
     },
     "output_type": "display_data"
    }
   ],
   "source": [
    "dry_ice_to_refrigeration = dry_ice_co2_equivalent_efficiency / refrigeration_co2_equivalent_efficiency\n",
    "print(dry_ice_to_refrigeration)\n",
    "from myst_nb import glue\n",
    "glue(\"dry_ice_percent_worse\", round(100 * dry_ice_to_refrigeration.value, 1))"
   ]
  },
  {
   "cell_type": "markdown",
   "metadata": {},
   "source": [
    "Thus, refrigerating using dry ice makes greenhouse gases produced by refrigeration {glue:}`dry_ice_percent_worse`% percent worse."
   ]
  },
  {
   "cell_type": "code",
   "execution_count": 4,
   "metadata": {},
   "outputs": [
    {
     "name": "stdout",
     "output_type": "stream",
     "text": [
      "22.3 ms ± 872 µs per loop (mean ± std. dev. of 7 runs, 10 loops each)\n"
     ]
    }
   ],
   "source": [
    "import random\n",
    "def _benchmark():\n",
    "    L = [random.random() for i in range(100000)]\n",
    "    L.sort()\n",
    "    return\n",
    "%timeit _benchmark()"
   ]
  },
  {
   "cell_type": "code",
   "execution_count": null,
   "metadata": {},
   "outputs": [],
   "source": []
  }
 ],
 "metadata": {
  "interpreter": {
   "hash": "3c9f4204b41141d492b4d773924d50a2ed52713080e70de2b799a777ba3ffcb3"
  },
  "kernelspec": {
   "display_name": "Python 3 (ipykernel)",
   "language": "python",
   "name": "python3"
  },
  "language_info": {
   "codemirror_mode": {
    "name": "ipython",
    "version": 3
   },
   "file_extension": ".py",
   "mimetype": "text/x-python",
   "name": "python",
   "nbconvert_exporter": "python",
   "pygments_lexer": "ipython3",
   "version": "3.8.10"
  },
  "widgets": {
   "application/vnd.jupyter.widget-state+json": {
    "state": {},
    "version_major": 2,
    "version_minor": 0
   }
  }
 },
 "nbformat": 4,
 "nbformat_minor": 4
}
