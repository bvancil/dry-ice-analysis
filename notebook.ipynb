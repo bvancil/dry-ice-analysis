{
 "cells": [
  {
   "cell_type": "markdown",
   "metadata": {},
   "source": [
    "# Comparision of dry ice to mechanical refrigeration"
   ]
  },
  {
   "cell_type": "markdown",
   "metadata": {},
   "source": [
    "## Units"
   ]
  },
  {
   "cell_type": "code",
   "execution_count": 11,
   "metadata": {},
   "outputs": [
    {
     "name": "stdout",
     "output_type": "stream",
     "text": [
      "3600000.0 J 3600000.0 J\n"
     ]
    }
   ],
   "source": [
    "from astropy import units\r\n",
    "dimensionless = units.dimensionless_unscaled\r\n",
    "# mass\r\n",
    "g = units.gram\r\n",
    "kg = units.kg\r\n",
    "ton = units.tonne\r\n",
    "# temperature\r\n",
    "degF = units.imperial.Fahrenheit\r\n",
    "K = units.Kelvin\r\n",
    "# energy\r\n",
    "J = units.joule\r\n",
    "kJ = units.kJ\r\n",
    "kWh = (units.kilowatt * units.hour).to(J) * J"
   ]
  },
  {
   "cell_type": "markdown",
   "metadata": {},
   "source": [
    "## Constants"
   ]
  },
  {
   "cell_type": "markdown",
   "metadata": {},
   "source": [
    "Dry ice has an enthalpy of sublimation of{cite}`DryIce2021`:"
   ]
  },
  {
   "cell_type": "code",
   "execution_count": 2,
   "metadata": {},
   "outputs": [
    {
     "name": "stdout",
     "output_type": "stream",
     "text": [
      "1.7513134851138355e-06 kg / J\n"
     ]
    }
   ],
   "source": [
    "enthalpy_sublimation = 571 * kJ / kg\r\n",
    "dry_ice_co2_equivalent_efficiency = (1 / enthalpy_sublimation).to(kg / J)\r\n",
    "print(dry_ice_co2_equivalent_efficiency)"
   ]
  },
  {
   "cell_type": "markdown",
   "metadata": {},
   "source": [
    "The maximum Carnot coefficient of performance for refrigerators is{cite}`HeatPumpRefrigeration2021`\r\n",
    "\r\n",
    "$$\\text{COP}_\\text{R,Carnot} = \\frac{1}{\\frac{T_H}{T_L} - 1}.$$\r\n"
   ]
  },
  {
   "cell_type": "code",
   "execution_count": 3,
   "metadata": {},
   "outputs": [
    {
     "name": "stdout",
     "output_type": "stream",
     "text": [
      "1.1200792523065222\n",
      "8.327833333333343\n"
     ]
    }
   ],
   "source": [
    "temperature_environment = (100 * degF).to(K, equivalencies=units.temperature())\r\n",
    "temperature_cooled = (40 * degF).to(K, equivalencies=units.temperature())\r\n",
    "print(temperature_environment / temperature_cooled)\r\n",
    "cop_max_refrigerator = 1 / (temperature_environment / temperature_cooled - 1)\r\n",
    "print(cop_max_refrigerator)"
   ]
  },
  {
   "cell_type": "markdown",
   "metadata": {},
   "source": [
    "A more realistic value is{cite}`CoefficientPerformance2021`:"
   ]
  },
  {
   "cell_type": "code",
   "execution_count": 4,
   "metadata": {},
   "outputs": [],
   "source": [
    "cop_refrigerator = 4.5"
   ]
  },
  {
   "cell_type": "markdown",
   "metadata": {},
   "source": [
    "In 2019, the United States of America emitted CO₂ during electricity generation at the rate{cite}`FrequentlyAskedQuestions`:"
   ]
  },
  {
   "cell_type": "code",
   "execution_count": 5,
   "metadata": {},
   "outputs": [
    {
     "ename": "UnitConversionError",
     "evalue": "'t' (mass) and 'kg / J' are not convertible",
     "output_type": "error",
     "traceback": [
      "\u001b[1;31m---------------------------------------------------------------------------\u001b[0m",
      "\u001b[1;31mUnitConversionError\u001b[0m                       Traceback (most recent call last)",
      "\u001b[1;32m~\\AppData\\Local\\Temp/ipykernel_28792/265733880.py\u001b[0m in \u001b[0;36m<module>\u001b[1;34m\u001b[0m\n\u001b[1;32m----> 1\u001b[1;33m \u001b[0melectricity_co2_equivalent_efficiency\u001b[0m \u001b[1;33m=\u001b[0m \u001b[1;33m(\u001b[0m\u001b[1;33m(\u001b[0m\u001b[1;36m1.72e9\u001b[0m \u001b[1;33m*\u001b[0m \u001b[0mton\u001b[0m\u001b[1;33m)\u001b[0m \u001b[1;33m/\u001b[0m \u001b[1;33m(\u001b[0m\u001b[1;36m4.13e12\u001b[0m \u001b[1;33m*\u001b[0m \u001b[0mkWh\u001b[0m\u001b[1;33m)\u001b[0m\u001b[1;33m)\u001b[0m\u001b[1;33m.\u001b[0m\u001b[0mto\u001b[0m\u001b[1;33m(\u001b[0m\u001b[0mkg\u001b[0m \u001b[1;33m/\u001b[0m \u001b[0mJ\u001b[0m\u001b[1;33m)\u001b[0m\u001b[1;33m\u001b[0m\u001b[1;33m\u001b[0m\u001b[0m\n\u001b[0m\u001b[0;32m      2\u001b[0m \u001b[0mprint\u001b[0m\u001b[1;33m(\u001b[0m\u001b[0melectricity_co2_equivalent_efficiency\u001b[0m\u001b[1;33m)\u001b[0m\u001b[1;33m\u001b[0m\u001b[1;33m\u001b[0m\u001b[0m\n",
      "\u001b[1;32m~\\.virtualenvs\\dry-ice-analysis-cKdMDT2E\\lib\\site-packages\\astropy\\units\\quantity.py\u001b[0m in \u001b[0;36mto\u001b[1;34m(self, unit, equivalencies, copy)\u001b[0m\n\u001b[0;32m    696\u001b[0m             \u001b[1;31m# Avoid using to_value to ensure that we make a copy. We also\u001b[0m\u001b[1;33m\u001b[0m\u001b[1;33m\u001b[0m\u001b[1;33m\u001b[0m\u001b[0m\n\u001b[0;32m    697\u001b[0m             \u001b[1;31m# don't want to slow down this method (esp. the scalar case).\u001b[0m\u001b[1;33m\u001b[0m\u001b[1;33m\u001b[0m\u001b[1;33m\u001b[0m\u001b[0m\n\u001b[1;32m--> 698\u001b[1;33m             \u001b[0mvalue\u001b[0m \u001b[1;33m=\u001b[0m \u001b[0mself\u001b[0m\u001b[1;33m.\u001b[0m\u001b[0m_to_value\u001b[0m\u001b[1;33m(\u001b[0m\u001b[0munit\u001b[0m\u001b[1;33m,\u001b[0m \u001b[0mequivalencies\u001b[0m\u001b[1;33m)\u001b[0m\u001b[1;33m\u001b[0m\u001b[1;33m\u001b[0m\u001b[0m\n\u001b[0m\u001b[0;32m    699\u001b[0m         \u001b[1;32melse\u001b[0m\u001b[1;33m:\u001b[0m\u001b[1;33m\u001b[0m\u001b[1;33m\u001b[0m\u001b[0m\n\u001b[0;32m    700\u001b[0m             \u001b[1;31m# to_value only copies if necessary\u001b[0m\u001b[1;33m\u001b[0m\u001b[1;33m\u001b[0m\u001b[1;33m\u001b[0m\u001b[0m\n",
      "\u001b[1;32m~\\.virtualenvs\\dry-ice-analysis-cKdMDT2E\\lib\\site-packages\\astropy\\units\\quantity.py\u001b[0m in \u001b[0;36m_to_value\u001b[1;34m(self, unit, equivalencies)\u001b[0m\n\u001b[0;32m    660\u001b[0m         \u001b[1;32mif\u001b[0m \u001b[0mequivalencies\u001b[0m \u001b[1;33m==\u001b[0m \u001b[1;33m[\u001b[0m\u001b[1;33m]\u001b[0m\u001b[1;33m:\u001b[0m\u001b[1;33m\u001b[0m\u001b[1;33m\u001b[0m\u001b[0m\n\u001b[0;32m    661\u001b[0m             \u001b[0mequivalencies\u001b[0m \u001b[1;33m=\u001b[0m \u001b[0mself\u001b[0m\u001b[1;33m.\u001b[0m\u001b[0m_equivalencies\u001b[0m\u001b[1;33m\u001b[0m\u001b[1;33m\u001b[0m\u001b[0m\n\u001b[1;32m--> 662\u001b[1;33m         return self.unit.to(unit, self.view(np.ndarray),\n\u001b[0m\u001b[0;32m    663\u001b[0m                             equivalencies=equivalencies)\n\u001b[0;32m    664\u001b[0m \u001b[1;33m\u001b[0m\u001b[0m\n",
      "\u001b[1;32m~\\.virtualenvs\\dry-ice-analysis-cKdMDT2E\\lib\\site-packages\\astropy\\units\\core.py\u001b[0m in \u001b[0;36mto\u001b[1;34m(self, other, value, equivalencies)\u001b[0m\n\u001b[0;32m    985\u001b[0m             \u001b[1;32mreturn\u001b[0m \u001b[0mUNITY\u001b[0m\u001b[1;33m\u001b[0m\u001b[1;33m\u001b[0m\u001b[0m\n\u001b[0;32m    986\u001b[0m         \u001b[1;32melse\u001b[0m\u001b[1;33m:\u001b[0m\u001b[1;33m\u001b[0m\u001b[1;33m\u001b[0m\u001b[0m\n\u001b[1;32m--> 987\u001b[1;33m             \u001b[1;32mreturn\u001b[0m \u001b[0mself\u001b[0m\u001b[1;33m.\u001b[0m\u001b[0m_get_converter\u001b[0m\u001b[1;33m(\u001b[0m\u001b[0mother\u001b[0m\u001b[1;33m,\u001b[0m \u001b[0mequivalencies\u001b[0m\u001b[1;33m=\u001b[0m\u001b[0mequivalencies\u001b[0m\u001b[1;33m)\u001b[0m\u001b[1;33m(\u001b[0m\u001b[0mvalue\u001b[0m\u001b[1;33m)\u001b[0m\u001b[1;33m\u001b[0m\u001b[1;33m\u001b[0m\u001b[0m\n\u001b[0m\u001b[0;32m    988\u001b[0m \u001b[1;33m\u001b[0m\u001b[0m\n\u001b[0;32m    989\u001b[0m     \u001b[1;32mdef\u001b[0m \u001b[0min_units\u001b[0m\u001b[1;33m(\u001b[0m\u001b[0mself\u001b[0m\u001b[1;33m,\u001b[0m \u001b[0mother\u001b[0m\u001b[1;33m,\u001b[0m \u001b[0mvalue\u001b[0m\u001b[1;33m=\u001b[0m\u001b[1;36m1.0\u001b[0m\u001b[1;33m,\u001b[0m \u001b[0mequivalencies\u001b[0m\u001b[1;33m=\u001b[0m\u001b[1;33m[\u001b[0m\u001b[1;33m]\u001b[0m\u001b[1;33m)\u001b[0m\u001b[1;33m:\u001b[0m\u001b[1;33m\u001b[0m\u001b[1;33m\u001b[0m\u001b[0m\n",
      "\u001b[1;32m~\\.virtualenvs\\dry-ice-analysis-cKdMDT2E\\lib\\site-packages\\astropy\\units\\core.py\u001b[0m in \u001b[0;36m_get_converter\u001b[1;34m(self, other, equivalencies)\u001b[0m\n\u001b[0;32m    916\u001b[0m                             \u001b[1;32mpass\u001b[0m\u001b[1;33m\u001b[0m\u001b[1;33m\u001b[0m\u001b[0m\n\u001b[0;32m    917\u001b[0m \u001b[1;33m\u001b[0m\u001b[0m\n\u001b[1;32m--> 918\u001b[1;33m             \u001b[1;32mraise\u001b[0m \u001b[0mexc\u001b[0m\u001b[1;33m\u001b[0m\u001b[1;33m\u001b[0m\u001b[0m\n\u001b[0m\u001b[0;32m    919\u001b[0m \u001b[1;33m\u001b[0m\u001b[0m\n\u001b[0;32m    920\u001b[0m     \u001b[1;32mdef\u001b[0m \u001b[0m_to\u001b[0m\u001b[1;33m(\u001b[0m\u001b[0mself\u001b[0m\u001b[1;33m,\u001b[0m \u001b[0mother\u001b[0m\u001b[1;33m)\u001b[0m\u001b[1;33m:\u001b[0m\u001b[1;33m\u001b[0m\u001b[1;33m\u001b[0m\u001b[0m\n",
      "\u001b[1;32m~\\.virtualenvs\\dry-ice-analysis-cKdMDT2E\\lib\\site-packages\\astropy\\units\\core.py\u001b[0m in \u001b[0;36m_get_converter\u001b[1;34m(self, other, equivalencies)\u001b[0m\n\u001b[0;32m    901\u001b[0m         \u001b[1;31m# if that doesn't work, maybe we can do it with equivalencies?\u001b[0m\u001b[1;33m\u001b[0m\u001b[1;33m\u001b[0m\u001b[1;33m\u001b[0m\u001b[0m\n\u001b[0;32m    902\u001b[0m         \u001b[1;32mtry\u001b[0m\u001b[1;33m:\u001b[0m\u001b[1;33m\u001b[0m\u001b[1;33m\u001b[0m\u001b[0m\n\u001b[1;32m--> 903\u001b[1;33m             return self._apply_equivalencies(\n\u001b[0m\u001b[0;32m    904\u001b[0m                 self, other, self._normalize_equivalencies(equivalencies))\n\u001b[0;32m    905\u001b[0m         \u001b[1;32mexcept\u001b[0m \u001b[0mUnitsError\u001b[0m \u001b[1;32mas\u001b[0m \u001b[0mexc\u001b[0m\u001b[1;33m:\u001b[0m\u001b[1;33m\u001b[0m\u001b[1;33m\u001b[0m\u001b[0m\n",
      "\u001b[1;32m~\\.virtualenvs\\dry-ice-analysis-cKdMDT2E\\lib\\site-packages\\astropy\\units\\core.py\u001b[0m in \u001b[0;36m_apply_equivalencies\u001b[1;34m(self, unit, other, equivalencies)\u001b[0m\n\u001b[0;32m    884\u001b[0m         \u001b[0mother_str\u001b[0m \u001b[1;33m=\u001b[0m \u001b[0mget_err_str\u001b[0m\u001b[1;33m(\u001b[0m\u001b[0mother\u001b[0m\u001b[1;33m)\u001b[0m\u001b[1;33m\u001b[0m\u001b[1;33m\u001b[0m\u001b[0m\n\u001b[0;32m    885\u001b[0m \u001b[1;33m\u001b[0m\u001b[0m\n\u001b[1;32m--> 886\u001b[1;33m         raise UnitConversionError(\n\u001b[0m\u001b[0;32m    887\u001b[0m             \"{} and {} are not convertible\".format(\n\u001b[0;32m    888\u001b[0m                 unit_str, other_str))\n",
      "\u001b[1;31mUnitConversionError\u001b[0m: 't' (mass) and 'kg / J' are not convertible"
     ]
    }
   ],
   "source": [
    "electricity_co2_equivalent_efficiency = ((1.72e9 * ton) / (4.13e12 * kWh)).to(kg / J)\r\n",
    "print(electricity_co2_equivalent_efficiency)"
   ]
  },
  {
   "cell_type": "code",
   "execution_count": null,
   "metadata": {},
   "outputs": [
    {
     "name": "stdout",
     "output_type": "stream",
     "text": [
      "5.205811138014528e-07 kg / J\n"
     ]
    }
   ],
   "source": [
    "refrigeration_co2_equivalent_efficiency = cop_refrigerator * electricity_co2_equivalent_efficiency\r\n",
    "print(refrigeration_co2_equivalent_efficiency)"
   ]
  },
  {
   "cell_type": "markdown",
   "metadata": {},
   "source": [
    "## Comparison"
   ]
  },
  {
   "cell_type": "code",
   "execution_count": null,
   "metadata": {},
   "outputs": [
    {
     "name": "stdout",
     "output_type": "stream",
     "text": [
      "3.364151020241926\n"
     ]
    },
    {
     "data": {
      "text/plain": [
       "336.4"
      ]
     },
     "metadata": {
      "scrapbook": {
       "mime_prefix": "",
       "name": "dry_ice_percent_worse"
      }
     },
     "output_type": "display_data"
    }
   ],
   "source": [
    "dry_ice_to_refrigeration = dry_ice_co2_equivalent_efficiency / refrigeration_co2_equivalent_efficiency\r\n",
    "print(dry_ice_to_refrigeration)\r\n",
    "from myst_nb import glue\r\n",
    "glue(\"dry_ice_percent_worse\", round(100 * dry_ice_to_refrigeration.value, 1))"
   ]
  },
  {
   "cell_type": "markdown",
   "metadata": {},
   "source": [
    "Thus, refrigerating using dry ice makes greenhouse gases produced by refrigeration {glue:}`dry_ice_percent_worse`% percent worse."
   ]
  }
 ],
 "metadata": {
  "interpreter": {
   "hash": "3c9f4204b41141d492b4d773924d50a2ed52713080e70de2b799a777ba3ffcb3"
  },
  "kernelspec": {
   "display_name": "Python 3.8.10 64-bit ('dry-ice-analysis-cKdMDT2E': pipenv)",
   "name": "python3"
  },
  "language_info": {
   "codemirror_mode": {
    "name": "ipython",
    "version": 3
   },
   "file_extension": ".py",
   "mimetype": "text/x-python",
   "name": "python",
   "nbconvert_exporter": "python",
   "pygments_lexer": "ipython3",
   "version": "3.8.10"
  },
  "widgets": {
   "application/vnd.jupyter.widget-state+json": {
    "state": {},
    "version_major": 2,
    "version_minor": 0
   }
  }
 },
 "nbformat": 4,
 "nbformat_minor": 4
}